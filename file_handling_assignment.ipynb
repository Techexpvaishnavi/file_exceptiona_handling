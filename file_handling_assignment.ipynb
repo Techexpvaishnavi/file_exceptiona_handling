{
 "cells": [
  {
   "cell_type": "markdown",
   "id": "a4c07c18-ae6a-4b96-8688-21079484f94d",
   "metadata": {},
   "source": [
    "# File & Exceptional Handling \n",
    "# Assignment"
   ]
  },
  {
   "cell_type": "markdown",
   "id": "07b09a8f-31dd-41f1-8d49-cc7b15fd9763",
   "metadata": {},
   "source": [
    "## Q1.Discuss the scenarios where multithreading is preferable to multiprocessing and scenarios where multiprocessing is a better choice."
   ]
  },
  {
   "cell_type": "markdown",
   "id": "ee1f1eff-d339-4129-806f-520d6539eca8",
   "metadata": {},
   "source": [
    "## <u>Multithreading</u> :   Multithreading is a programming technique tthat assigns multiple code segments to a single process . These code segments , also referred to as threads, run concurrently and parallel to each other . These threads share the same memory space within parent process \n",
    "\n",
    "\n",
    "### Benefits of Multithreading :-  \n",
    "- It requires less memory storage .\n",
    "- Accessing memory is easier since threads share the same parent process.\n",
    "- Switching between  threads is fast and efficient .\n",
    "- All thread share one process memory pool and the same address space.\n",
    "\n",
    "### Drawbacks of Multithreading:-  \n",
    "- A multithreading system can not be intterrupted.\n",
    "- The code can be more challenging to understand\n",
    "- The overhead associated with managing differnt thread may be too costly for basic tasks\n",
    "\n",
    "## <u> Muliprocessing </u> :  Multiprocessing refers tto a system that has more than two central processing unitts(CPUs) .Every additional CPU  added to a system increases its speed , power and memory. This allows user to run muliple processes simultaneously. \n",
    "1. Symmetric multprocessing :- This multiprocessing system uses computer hardware and software that incorporates two or more identical processors connected by one memory space.\n",
    "2. Asymmetric multiprocessing :- In this multiprocessing system , different CPUs have access to separate input and output devices .\n",
    "\n",
    "### Benefits of Multiprocessing :-\n",
    "- It uss simple coding that's easy to understand.\n",
    "- It helps you overcome global interpreter lock limitations in CPython.\n",
    "- Child proccesses can be interupted\n",
    "- It completes tasks faster and analyze large amount of data\n",
    "\n",
    "### Drawbacks of Multiprocessing : -\n",
    "- It requires more memory storage and overhead than threads to move data between process.\n",
    "- Spawing process take longer than spawing threads .\n",
    "- An inter-process comunication model must be implemented to share objects between processes.\n",
    "\n",
    "\n",
    "## Differences between Multithreading and Multiprocessing : \n",
    "<table>\n",
    "    <tr>\n",
    "        <th>Multiprocessing</th>\n",
    "        <th>Multithreading</th>\n",
    "    </tr>\n",
    "    <tr>\n",
    "        <td>In Multiprocessing , CPU are added for increasing computing power.</td>\n",
    "        <td>While In Multithreading , many threads are created of a single process for incresing computing power </td>\n",
    "    </tr>\n",
    "    <tr>\n",
    "        <td>Many process are executed simultaneously</td>\n",
    "        <td>Man threads of a process are executed simulttaneously.</td>\n",
    "    </tr>\n",
    "    <tr>\n",
    "        <td>Multiprocessing are classified into Syymmetric and Asymmetric </td>\n",
    "        <td>Multithreading is not classified in any categories </td>\n",
    "    </tr>\n",
    "    <tr>\n",
    "        <td>Process creation is a time consuming process</td>\n",
    "        <td>Process creation according to economical</td>\n",
    "    </tr>\n",
    "    \n",
    "</table>"
   ]
  },
  {
   "cell_type": "code",
   "execution_count": 1,
   "id": "2a96db06-73be-428c-a5ff-bd3078fe8135",
   "metadata": {},
   "outputs": [
    {
     "name": "stdout",
     "output_type": "stream",
     "text": [
      "area of cube :  125\n",
      "area of square : 25\n",
      "Done !\n"
     ]
    }
   ],
   "source": [
    "# Example of multithreading\n",
    "\n",
    "import threading\n",
    "\n",
    "def cube(num):\n",
    "    print(f\"area of cube :  {num*num*num}\")\n",
    "\n",
    "def square(num):\n",
    "    print(f\"area of square : {num * num }\")\n",
    "\n",
    "if __name__ ==\"__main__\":\n",
    "    t1=threading.Thread(target=cube , args=(5,))\n",
    "    t2=threading.Thread(target=square , args=(5,))\n",
    "\n",
    "    t1.start()\n",
    "    t2.start()\n",
    "\n",
    "    t1.join()\n",
    "    t2.join()\n",
    "    print(\"Done !\")"
   ]
  },
  {
   "cell_type": "code",
   "execution_count": 3,
   "id": "aaaaa46f-8131-440d-9d74-9b9c1825fc4d",
   "metadata": {},
   "outputs": [
    {
     "name": "stdout",
     "output_type": "stream",
     "text": [
      "Done !\n"
     ]
    }
   ],
   "source": [
    "# Example of multiprocessing\n",
    "\n",
    "import multiprocessing\n",
    "\n",
    "def cube(num):\n",
    "    print(f\"area of cube :  {num*num*num}\")\n",
    "\n",
    "def square(num):\n",
    "    print(f\"area of square : {num * num }\")\n",
    "\n",
    "if __name__ ==\"__main__\":\n",
    "    t1=multiprocessing.Process(target=cube , args=(5,))\n",
    "    t2=multiprocessing.Process(target=square , args=(5,))\n",
    "\n",
    "    t1.start()\n",
    "    t2.start()\n",
    "\n",
    "    t1.join()\n",
    "    t2.join()\n",
    "    print(\"Done !\")\n"
   ]
  },
  {
   "cell_type": "markdown",
   "id": "f31475bb-96af-4c22-a6bc-f03a5810b969",
   "metadata": {},
   "source": [
    "## Q2.  Describe what a process pool is and how it helps in managing multiple processes efficiently.."
   ]
  },
  {
   "cell_type": "markdown",
   "id": "9a70b504-48ee-49ac-978f-0d871ec8a8c4",
   "metadata": {},
   "source": [
    "### The pool allows you to do multiple jobs per process , which many make it easier to parallelize your program . If you have a million tasks to execute in parallel , you can create a Pool with a number of processes as many as CPU cores and then pass he list of the million tasks to the pool. \n",
    "\n",
    "\n",
    "Pool process :-  If you have a small number of task to execute i parallel and only need each task done once, it may be perfectly reasonable o use a seperate multtiprocessing . Process for each task rather than setting up a Pool.\n",
    "\n",
    "Pool class belongs to the multiprocessing module in Python , providing a convenient avenue for executing paralle task, when  you startt a Pool, you create a set of worker processes that are ready to perform task simultaneously , This capabilities makes it a pivotal ttool for effective multiprocesing."
   ]
  },
  {
   "cell_type": "code",
   "execution_count": null,
   "id": "2409c35b-8f72-42e5-b404-d56e02d1e171",
   "metadata": {},
   "outputs": [],
   "source": [
    "from multiprocessing import Pool\n",
    "\n",
    "import time\n",
    "\n",
    "work = ([\"A\", 5], [\"B\", 2], [\"C\", 1], [\"D\", 3])\n",
    "\n",
    "\n",
    "def work_log(work_data):\n",
    "    print(\" Process %s waiting %s seconds\" % (work_data[0], work_data[1]))\n",
    "    time.sleep(int(work_data[1]))\n",
    "    print(\" Process %s Finished.\" % work_data[0])\n",
    "\n",
    "\n",
    "def pool_handler():\n",
    "    p = Pool(2)\n",
    "    p.map(work_log, work)\n",
    "\n",
    "\n",
    "if __name__ == '__main__':\n",
    "    pool_handler()"
   ]
  },
  {
   "cell_type": "markdown",
   "id": "f16fc7dd-04da-4cae-af9c-eeb48f418e71",
   "metadata": {},
   "source": [
    "## Q3. Explain what multiprocessing is and why it is used in Python programs"
   ]
  },
  {
   "cell_type": "markdown",
   "id": "9ddc5364-5350-4758-97b6-62e034bae749",
   "metadata": {},
   "source": [
    "### Multtiprocessing :- It refers to the ability of a system to support than one processor at the same time. Application in a multiprocessing system are broken to smaller routines that run idependently . The operating system allocates these threads to the processors improving performance of the system.  \n",
    "\n",
    "\n",
    "### Why multiprocessing :- Consider a computer system with a single processors . If it is assigned several processes at the same time , it will have to interrupt each task and switch breifly to another , to keep all of the processes going. The more tasks you must do at once , the more difficult it gets to keep track of them all, and keeping the timming right becomes more challenge. This is where the concept of multiprocessing arises \n",
    "\n",
    "\n",
    "- multprocessor i.e.. a computer with more than one CPU\n",
    "- multi-core processor , i.e ... a single computing component with two or more independent actual processing unit"
   ]
  },
  {
   "cell_type": "code",
   "execution_count": 4,
   "id": "c7b73e45-0368-47b3-8345-ebe14fd0e476",
   "metadata": {},
   "outputs": [
    {
     "name": "stdout",
     "output_type": "stream",
     "text": [
      "finish work 1.293\n"
     ]
    }
   ],
   "source": [
    "import multiprocessing\n",
    "import time\n",
    "start=time.perf_counter()\n",
    "def func():\n",
    "  print(\"Doing Something\")\n",
    "  time.sleep(3)\n",
    "  print(\"done work\")\n",
    "\n",
    "p1=multiprocessing.Process(target=func)\n",
    "p2=multiprocessing.Process(target=func)\n",
    "\n",
    "\n",
    "p1.start()\n",
    "p2.start()\n",
    "\n",
    "p1.join()\n",
    "p2.join()\n",
    "\n",
    "end=time.perf_counter()\n",
    "\n",
    "print(f\"finish work {round(end-start, 3)}\")\n"
   ]
  },
  {
   "cell_type": "markdown",
   "id": "3357c86c-0fb7-4359-a875-0f715cb7966c",
   "metadata": {},
   "source": [
    "***"
   ]
  },
  {
   "cell_type": "markdown",
   "id": "079476ab-67cf-4957-b5c4-ad82e842eb80",
   "metadata": {},
   "source": [
    "## Q4.  Write a Python program using multithreading where one thread adds numbers to a list, and another  thread removes numbers from the list. Implement a mechanism to avoid race conditions using threading.Lock.\n",
    ".\n",
    "\n",
    "\n"
   ]
  },
  {
   "cell_type": "code",
   "execution_count": 5,
   "id": "7e0290cb-b594-44e8-a76e-3cd3f466fec7",
   "metadata": {},
   "outputs": [
    {
     "name": "stdout",
     "output_type": "stream",
     "text": [
      "adding number in list : [4]\n",
      "remove number  from the list :  []\n",
      "finishing your program is : 3.02\n"
     ]
    }
   ],
   "source": [
    "import threading \n",
    "\n",
    "import time\n",
    "start=time.perf_counter()\n",
    "\n",
    "l=[]\n",
    "\n",
    "def add_fun(num):\n",
    "  l.append(num)\n",
    "  print(\"adding number in list :\",l)\n",
    "  time.sleep(3)\n",
    "\n",
    "def remove_fun(num):\n",
    "  l.remove(num)\n",
    "  print(\"remove number  from the list : \",l)\n",
    " \n",
    "\n",
    "t1=threading.Thread(target=add_fun, args=(4,))\n",
    "t2=threading.Thread(target=remove_fun ,args=(4,))\n",
    "\n",
    "t1.start()\n",
    "t2.start()\n",
    "\n",
    "t1.join()\n",
    "t2.join()\n",
    "\n",
    "end=time.perf_counter()\n",
    "print(f\"finishing your program is : {round(end-start,2)}\")\n"
   ]
  },
  {
   "cell_type": "markdown",
   "id": "3e28b680-fed0-4b74-990c-3ac199f1c7fe",
   "metadata": {},
   "source": [
    "## Q5.Describe the methods and tools available in Python for safely sharing data between threads and process ."
   ]
  },
  {
   "cell_type": "markdown",
   "id": "3cb781c4-4c59-44fd-8329-7e9bb19c5436",
   "metadata": {},
   "source": [
    " ### Python provides some methods and tools available in Python for safely sharing data between threads and processes::\n",
    " ## Threads:\n",
    " 1. Queue : Use queue .Queue to share data between threads."
   ]
  },
  {
   "cell_type": "code",
   "execution_count": 1,
   "id": "f9f5c85c-83da-4812-93d6-3a8d6c172563",
   "metadata": {},
   "outputs": [
    {
     "name": "stdout",
     "output_type": "stream",
     "text": [
      "Hello ,world\n"
     ]
    }
   ],
   "source": [
    "import threading\n",
    "import queue\n",
    "\n",
    "q=queue.Queue()\n",
    "\n",
    "def worker():\n",
    "    data=q.get()\n",
    "    print(data)\n",
    "    q.task_done()\n",
    "\n",
    "thread=threading.Thread(target = worker)\n",
    "thread.start()\n",
    "\n",
    "q.put(\"Hello ,world\")\n",
    "q.join()"
   ]
  },
  {
   "cell_type": "markdown",
   "id": "ac992415-90a4-4238-a167-36f87da6abf6",
   "metadata": {},
   "source": [
    "2. Locks: Use threading.Lock to synchronize access to shared data."
   ]
  },
  {
   "cell_type": "code",
   "execution_count": 5,
   "id": "91e7534f-a9d6-4b66-82fb-0b72dc34346d",
   "metadata": {},
   "outputs": [
    {
     "name": "stdout",
     "output_type": "stream",
     "text": [
      "10\n"
     ]
    }
   ],
   "source": [
    "import threading\n",
    "\n",
    "lock = threading.Lock()\n",
    "data=0\n",
    "def worker():\n",
    "    global data\n",
    "    with lock:\n",
    "        data+=1\n",
    "\n",
    "threads=[threading.Thread(target=worker)for _ in range(10)]\n",
    "for thread in  threads:\n",
    "    thread.start()\n",
    "\n",
    "for thread in threads:\n",
    "    thread.join()\n",
    "\n",
    "print(data)\n",
    "        "
   ]
  },
  {
   "cell_type": "markdown",
   "id": "bcf065ce-5640-4d1e-a5b0-6cb8cbf66fa1",
   "metadata": {},
   "source": [
    "3. RLock :- Use threading.RLock for reentrant locking."
   ]
  },
  {
   "cell_type": "code",
   "execution_count": 3,
   "id": "1ec91074-fd03-45c0-a7ee-eb7567bc2ac9",
   "metadata": {},
   "outputs": [
    {
     "name": "stdout",
     "output_type": "stream",
     "text": [
      "10\n"
     ]
    }
   ],
   "source": [
    "import threading \n",
    "lock=threading.RLock()\n",
    "data=0\n",
    "\n",
    "def worker():\n",
    "    global data\n",
    "    with lock:\n",
    "        with lock:\n",
    "            data+=1\n",
    "\n",
    "threads=[threading.Thread(target=worker) for _ in range(10)]\n",
    "for thread in threads:\n",
    "    thread.start()\n",
    "for thread in threads:\n",
    "    thread.join()\n",
    "\n",
    "\n",
    "print(data)"
   ]
  },
  {
   "cell_type": "markdown",
   "id": "1d816315-239c-4dfe-8efc-d80d80a53c13",
   "metadata": {},
   "source": [
    "### Process:\n",
    "1.Pipe:  use multiprocessing.Pipe to share data between processess.\n",
    "\n"
   ]
  },
  {
   "cell_type": "code",
   "execution_count": 13,
   "id": "80a60e71-5b89-4376-a327-f9c60cfadecb",
   "metadata": {},
   "outputs": [],
   "source": [
    "import multiprocessing \n",
    "\n",
    "def worker(conn):\n",
    "    data = conn.recv()\n",
    "    print(data)\n",
    "\n",
    "parent_conn,child_conn = multiprocessing.Pipe()\n",
    "process = multiprocessing.Process(target=worker,args=(child_conn,))\n",
    "process.start()\n",
    "parent_conn.send(\"hello,wrold !\")\n",
    "process.join()\n",
    "    "
   ]
  },
  {
   "cell_type": "markdown",
   "id": "5847e509-c0ea-4ee0-96ad-a27da8d38400",
   "metadata": {},
   "source": [
    "2. Queue = use multiprocessing.Queue to share data between process "
   ]
  },
  {
   "cell_type": "code",
   "execution_count": 2,
   "id": "669115a4-c636-49a7-9b15-0013d0392720",
   "metadata": {},
   "outputs": [],
   "source": [
    "import multiprocessing \n",
    "def worker(queue):\n",
    "    data=queue.get()\n",
    "    print(data)\n",
    "\n",
    "queue=multiprocessing.Queue()\n",
    "process = multiprocessing.Process(target = worker,args=(queue,))\n",
    "process.start()\n",
    "queue.put(\"Hello,World\")\n",
    "process.join()\n",
    "    "
   ]
  },
  {
   "cell_type": "markdown",
   "id": "a0437766-c460-47a3-a7a0-8cc59de3ae21",
   "metadata": {},
   "source": [
    "3.Shared memory :- Use multiprocessing.Value or multiprocessing.Array to share data between process."
   ]
  },
  {
   "cell_type": "code",
   "execution_count": 17,
   "id": "abb0c6c2-eb42-405a-8e2a-925d9b0f9416",
   "metadata": {},
   "outputs": [
    {
     "name": "stdout",
     "output_type": "stream",
     "text": [
      "0\n"
     ]
    }
   ],
   "source": [
    "import multiprocessing\n",
    "def wroker(data):\n",
    "    data.value+=1\n",
    "\n",
    "data=multiprocessing.Value(\"i\",0)\n",
    "process = multiprocessing.Process(target=worker,args=(data,))\n",
    "process.start()\n",
    "process.join()\n",
    "print(data.value)"
   ]
  },
  {
   "cell_type": "markdown",
   "id": "322732f9-eccb-4546-8a05-f10dd6cba114",
   "metadata": {},
   "source": [
    "***"
   ]
  },
  {
   "cell_type": "markdown",
   "id": "af5261ef-768f-48fd-a09f-d155800f4f33",
   "metadata": {},
   "source": [
    "## Q6. Discuss why it’s crucial to handle exceptions in concurrent programs and the techniques available for doing so."
   ]
  },
  {
   "cell_type": "markdown",
   "id": "0a47861f-feed-4643-bb52-70e36514ea94",
   "metadata": {},
   "source": [
    "###  Exceptional handling  is a crucial part of writing solid python code. It helps develpoers  prepare for and deal wihh potential errors that might pop up during program execution , ultimately improving the reliablilty and user experience of the program\n",
    "\n",
    "## getting started witth exception  handling :  \n",
    "1. try :: This is where you place the code that might trigger an exception . Python runs this code and keeps an eye out for any exception .\n",
    "2. except :: if an exception occurs in the try block .Python will jump to the except blockto handle the error or take the necessary steps for neccessary steps  for recovery.\n",
    "3. else :: this block runs if no exception were raised in he try block . It's handy for executing code tha should only run if the try block is successful\n",
    "4. finally :: Code within the finally block runs no matter what, whether an exception not.It's often used for clean up tasks like closing files or network connetions"
   ]
  },
  {
   "cell_type": "code",
   "execution_count": 11,
   "id": "2105ce40-e632-41ca-8721-b693c0f2839f",
   "metadata": {},
   "outputs": [
    {
     "name": "stdout",
     "output_type": "stream",
     "text": [
      "you code is not execute due to :  division by zero\n",
      "always executed !\n"
     ]
    }
   ],
   "source": [
    "try:\n",
    "    a=100/0\n",
    "except Exception as e:\n",
    "    print(\"you code is not execute due to : \", e)\n",
    "\n",
    "finally:\n",
    "    print(\"always executed !\")"
   ]
  },
  {
   "cell_type": "markdown",
   "id": "b6ec4a79-39f9-49a4-b884-57052701211d",
   "metadata": {},
   "source": [
    "## Q7.  Create a program that uses a thread pool to calculate the factorial of numbers from 1 to 10 concurrently  Usse concurrent.futures.ThreadPoolExecutor to manage the thread"
   ]
  },
  {
   "cell_type": "code",
   "execution_count": 24,
   "id": "7507caaf-8a23-432f-8a23-985e663292c4",
   "metadata": {},
   "outputs": [
    {
     "name": "stdout",
     "output_type": "stream",
     "text": [
      "factorial of number :1 \n",
      "factorial of number :2 \n",
      "factorial of number :6 \n",
      "factorial of number :24 \n",
      "factorial of number :120 \n",
      "factorial of number :720 \n",
      "factorial of number :5040 \n",
      "factorial of number :40320 \n",
      "factorial of number :362880 \n",
      "factorial of number :3628800 \n",
      "finish your code is :0.03\n"
     ]
    }
   ],
   "source": [
    "import time\n",
    "import concurrent.futures\n",
    "start= time.perf_counter()\n",
    "\n",
    "def fact(n):\n",
    "    if n==0 or n==1:\n",
    "            return 1\n",
    "    else:\n",
    "        return n*fact(n-1)\n",
    "\n",
    "with concurrent.futures.ThreadPoolExecutor() as executor :\n",
    "    thread=[1,2,3,4,5,6,7,8,9,10]\n",
    "    result=executor.map(fact, thread)\n",
    "\n",
    "for i in result:\n",
    "    print(f\"factorial of number :{i} \" )\n",
    "\n",
    "end=time.perf_counter()\n",
    "print(f\"finish your code is :{round(end-start,2)}\")"
   ]
  },
  {
   "cell_type": "markdown",
   "id": "7a1f6398-84db-409a-a971-e3947c2380ef",
   "metadata": {},
   "source": [
    "## Q8. Create a Python program that uses multiprocessing.Pool to compute the square of numbers from 1 to 10 in parallel. Measure the time taken to perform this computation using a pool of different sizes (e.g., 2, 4, 8 nprocesses)."
   ]
  },
  {
   "cell_type": "code",
   "execution_count": null,
   "id": "6f4feb40-a7a2-4961-a4a2-dcf8ab750425",
   "metadata": {},
   "outputs": [],
   "source": [
    "import multiprocessing\n",
    "\n",
    "import time\n",
    "\n",
    "\n",
    "def compute_scale(n):\n",
    "  result = n*n\n",
    "  print(f\"Computed {n} *{n} = {result}\")\n",
    "  return result\n",
    "\n",
    "\n",
    "numbers=list(range(1,11))\n",
    "\n",
    "\n",
    "\n",
    "for pool_size in [1,2,4,8]:\n",
    "  start_time = time.time()\n",
    "  with multiprocessing.Pool(processes=pool_size) as pool:\n",
    "    result = pool.map(compute_scale,numbers)\n",
    "    end_time = time.time()\n",
    "    print(f\"Pool size {pool_size}:\\nTime taken ={end_time - start_time:2f}\")\n",
    "\n",
    "\n"
   ]
  },
  {
   "cell_type": "markdown",
   "id": "8db71d02-2a19-4985-91ae-78c4f0218f47",
   "metadata": {},
   "source": [
    "***"
   ]
  },
  {
   "cell_type": "code",
   "execution_count": null,
   "id": "68f8b654-02c7-451c-8c95-ded0dde90838",
   "metadata": {},
   "outputs": [],
   "source": []
  }
 ],
 "metadata": {
  "kernelspec": {
   "display_name": "Python 3 (ipykernel)",
   "language": "python",
   "name": "python3"
  },
  "language_info": {
   "codemirror_mode": {
    "name": "ipython",
    "version": 3
   },
   "file_extension": ".py",
   "mimetype": "text/x-python",
   "name": "python",
   "nbconvert_exporter": "python",
   "pygments_lexer": "ipython3",
   "version": "3.12.5"
  }
 },
 "nbformat": 4,
 "nbformat_minor": 5
}
